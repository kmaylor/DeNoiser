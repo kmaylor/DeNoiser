{
 "cells": [
  {
   "cell_type": "code",
   "execution_count": 1,
   "metadata": {},
   "outputs": [],
   "source": [
    "import sys\n",
    "import numpy as np\n",
    "\n",
    "from matplotlib import pyplot as plt\n",
    "\n",
    "\n",
    "import cardio.dataset as ds\n",
    "from cardio import EcgBatch\n",
    "index = ds.FilesIndex(path='D:\\Projects/cardio/cardio/tests/training2017/A*.hea', no_ext=True, sort=True)"
   ]
  },
  {
   "cell_type": "code",
   "execution_count": 2,
   "metadata": {},
   "outputs": [
    {
     "name": "stderr",
     "output_type": "stream",
     "text": [
      "Using TensorFlow backend.\n"
     ]
    }
   ],
   "source": [
    "from keras.models import Sequential\n",
    "from keras.layers import Conv1D,  UpSampling1D, Activation, LeakyReLU, Dropout,BatchNormalization\n",
    "from keras.optimizers import Adam, RMSprop"
   ]
  },
  {
   "cell_type": "code",
   "execution_count": 6,
   "metadata": {},
   "outputs": [],
   "source": []
  },
  {
   "cell_type": "code",
   "execution_count": 9,
   "metadata": {},
   "outputs": [],
   "source": [
    "def generator(batch_size):\n",
    "    def get_batch(batch_size=1):\n",
    "        eds = ds.Dataset(index, batch_class=EcgBatch)\n",
    "        batch = eds.next_batch(batch_size=batch_size,shuffle=True, unique_labels=['A', 'N', 'O'])\n",
    "        batch_with_data = batch.load(fmt='wfdb', components=['signal', 'meta'])\n",
    "        return np.array([batch_with_data[i].signal[0][:9000] for i in batch_with_data.indices ])\n",
    "    while True:\n",
    "        signal=get_batch(batch_size=batch_size)\n",
    "        while np.shape(signal)[-1] !=9000:\n",
    "            signal=get_batch(batch_size=batch_size)\n",
    "        noise_sigs = np.zeros_like(signal)\n",
    "        for i,s in enumerate(signal):\n",
    "            n_sin = 10\n",
    "            siglen = len(s)\n",
    "            t = np.linspace(0, 30, siglen)\n",
    "            for j in range(n_sin):\n",
    "                a = np.random.uniform(0, 0.1)\n",
    "                omega = np.random.uniform(3, 4)\n",
    "                phi = np.random.uniform(0, 2 * np.pi)\n",
    "                noise_sigs[i] += a * np.sin(omega * t + phi)\n",
    "                a = np.random.uniform(0, 0.2)\n",
    "                omega = np.random.uniform(0.1, 0.8)\n",
    "                phi = np.random.uniform(0, 2 * np.pi)\n",
    "                noise_sigs[i] += a * np.sin(omega * t + phi)\n",
    "            noise_sigs[i] += s\n",
    "        yield noise_sigs.reshape(-1,9000,1),signal.reshape(-1,9000,1)\n",
    "    "
   ]
  },
  {
   "cell_type": "code",
   "execution_count": 10,
   "metadata": {},
   "outputs": [
    {
     "ename": "KeyboardInterrupt",
     "evalue": "",
     "output_type": "error",
     "traceback": [
      "\u001b[1;31m---------------------------------------------------------------------------\u001b[0m",
      "\u001b[1;31mKeyboardInterrupt\u001b[0m                         Traceback (most recent call last)",
      "\u001b[1;32m<ipython-input-10-a78b1936c964>\u001b[0m in \u001b[0;36m<module>\u001b[1;34m()\u001b[0m\n\u001b[1;32m----> 1\u001b[1;33m \u001b[0ma\u001b[0m\u001b[1;33m=\u001b[0m\u001b[1;33m[\u001b[0m\u001b[0mi\u001b[0m \u001b[1;32mfor\u001b[0m \u001b[0mi\u001b[0m \u001b[1;32min\u001b[0m \u001b[0mgenerator\u001b[0m\u001b[1;33m(\u001b[0m\u001b[1;36m2\u001b[0m\u001b[1;33m)\u001b[0m\u001b[1;33m]\u001b[0m\u001b[1;33m\u001b[0m\u001b[0m\n\u001b[0m",
      "\u001b[1;32m<ipython-input-10-a78b1936c964>\u001b[0m in \u001b[0;36m<listcomp>\u001b[1;34m(.0)\u001b[0m\n\u001b[1;32m----> 1\u001b[1;33m \u001b[0ma\u001b[0m\u001b[1;33m=\u001b[0m\u001b[1;33m[\u001b[0m\u001b[0mi\u001b[0m \u001b[1;32mfor\u001b[0m \u001b[0mi\u001b[0m \u001b[1;32min\u001b[0m \u001b[0mgenerator\u001b[0m\u001b[1;33m(\u001b[0m\u001b[1;36m2\u001b[0m\u001b[1;33m)\u001b[0m\u001b[1;33m]\u001b[0m\u001b[1;33m\u001b[0m\u001b[0m\n\u001b[0m",
      "\u001b[1;32m<ipython-input-9-e3dcdb373371>\u001b[0m in \u001b[0;36mgenerator\u001b[1;34m(batch_size)\u001b[0m\n\u001b[0;32m     22\u001b[0m                 \u001b[0momega\u001b[0m \u001b[1;33m=\u001b[0m \u001b[0mnp\u001b[0m\u001b[1;33m.\u001b[0m\u001b[0mrandom\u001b[0m\u001b[1;33m.\u001b[0m\u001b[0muniform\u001b[0m\u001b[1;33m(\u001b[0m\u001b[1;36m0.1\u001b[0m\u001b[1;33m,\u001b[0m \u001b[1;36m0.8\u001b[0m\u001b[1;33m)\u001b[0m\u001b[1;33m\u001b[0m\u001b[0m\n\u001b[0;32m     23\u001b[0m                 \u001b[0mphi\u001b[0m \u001b[1;33m=\u001b[0m \u001b[0mnp\u001b[0m\u001b[1;33m.\u001b[0m\u001b[0mrandom\u001b[0m\u001b[1;33m.\u001b[0m\u001b[0muniform\u001b[0m\u001b[1;33m(\u001b[0m\u001b[1;36m0\u001b[0m\u001b[1;33m,\u001b[0m \u001b[1;36m2\u001b[0m \u001b[1;33m*\u001b[0m \u001b[0mnp\u001b[0m\u001b[1;33m.\u001b[0m\u001b[0mpi\u001b[0m\u001b[1;33m)\u001b[0m\u001b[1;33m\u001b[0m\u001b[0m\n\u001b[1;32m---> 24\u001b[1;33m                 \u001b[0mnoise_sigs\u001b[0m\u001b[1;33m[\u001b[0m\u001b[0mi\u001b[0m\u001b[1;33m]\u001b[0m \u001b[1;33m+=\u001b[0m \u001b[0ma\u001b[0m \u001b[1;33m*\u001b[0m \u001b[0mnp\u001b[0m\u001b[1;33m.\u001b[0m\u001b[0msin\u001b[0m\u001b[1;33m(\u001b[0m\u001b[0momega\u001b[0m \u001b[1;33m*\u001b[0m \u001b[0mt\u001b[0m \u001b[1;33m+\u001b[0m \u001b[0mphi\u001b[0m\u001b[1;33m)\u001b[0m\u001b[1;33m\u001b[0m\u001b[0m\n\u001b[0m\u001b[0;32m     25\u001b[0m             \u001b[0mnoise_sigs\u001b[0m\u001b[1;33m[\u001b[0m\u001b[0mi\u001b[0m\u001b[1;33m]\u001b[0m \u001b[1;33m+=\u001b[0m \u001b[0ms\u001b[0m\u001b[1;33m\u001b[0m\u001b[0m\n\u001b[0;32m     26\u001b[0m         \u001b[1;32myield\u001b[0m \u001b[0mnoise_sigs\u001b[0m\u001b[1;33m.\u001b[0m\u001b[0mreshape\u001b[0m\u001b[1;33m(\u001b[0m\u001b[1;33m-\u001b[0m\u001b[1;36m1\u001b[0m\u001b[1;33m,\u001b[0m\u001b[1;36m9000\u001b[0m\u001b[1;33m,\u001b[0m\u001b[1;36m1\u001b[0m\u001b[1;33m)\u001b[0m\u001b[1;33m,\u001b[0m\u001b[0msignal\u001b[0m\u001b[1;33m.\u001b[0m\u001b[0mreshape\u001b[0m\u001b[1;33m(\u001b[0m\u001b[1;33m-\u001b[0m\u001b[1;36m1\u001b[0m\u001b[1;33m,\u001b[0m\u001b[1;36m9000\u001b[0m\u001b[1;33m,\u001b[0m\u001b[1;36m1\u001b[0m\u001b[1;33m)\u001b[0m\u001b[1;33m\u001b[0m\u001b[0m\n",
      "\u001b[1;31mKeyboardInterrupt\u001b[0m: "
     ]
    }
   ],
   "source": [
    "a=[i for i in generator(2)]"
   ]
  },
  {
   "cell_type": "code",
   "execution_count": null,
   "metadata": {},
   "outputs": [],
   "source": []
  },
  {
   "cell_type": "code",
   "execution_count": 11,
   "metadata": {},
   "outputs": [],
   "source": [
    "class Autoencoder(object):\n",
    "    \n",
    "    def __init__(self, length=9000, channel=1):\n",
    "\n",
    "        self.length = length\n",
    "        self.channel = channel\n",
    "        self.E = None   # endcoder\n",
    "        self.D = None   # decoder\n",
    "        self.AE = None  # Auto encoder model\n",
    "        \n",
    "    def encoder(self):\n",
    "        if self.E:\n",
    "            return self.E\n",
    "        self.E = Sequential(name='encoder')\n",
    "        depth = 64\n",
    "        dropout = 0.6\n",
    "        input_shape = (self.length, self.channel)\n",
    "        self.E.add(Conv1D(depth*1, 3, strides=1, input_shape=(9000,1),\\\n",
    "            padding='same',name='con_1'))\n",
    "        self.E.add(LeakyReLU(alpha=0.2,name='leak_1'))\n",
    "        self.E.add(Dropout(dropout,name='drop_1'))\n",
    "\n",
    "        self.E.add(Conv1D(depth*2, 5, strides=2, padding='same',name='con_2'))\n",
    "        self.E.add(LeakyReLU(alpha=0.2,name='leak_2'))\n",
    "        self.E.add(Dropout(dropout,name='drop_2'))\n",
    "\n",
    "        self.E.add(Conv1D(depth*4, 5, strides=2, padding='same',name='con_3'))\n",
    "        self.E.add(LeakyReLU(alpha=0.2,name='leak_3'))\n",
    "        self.E.add(Dropout(dropout,name='drop_3'))\n",
    "\n",
    "        self.E.summary()\n",
    "        return self.E\n",
    "    \n",
    "    def decoder(self):\n",
    "        if self.D:\n",
    "            return self.D\n",
    "        self.D = Sequential(name='decoder')\n",
    "        dropout = 0.6\n",
    "        depth = 64*4\n",
    "        dim = 16\n",
    "        \n",
    "        self.D.add(UpSampling1D(input_shape=(2250, 256),name='up1'))\n",
    "        self.D.add(Conv1D(int(depth/2), 5, padding='same',name='con4'))\n",
    "        self.D.add(BatchNormalization(momentum=0.9,name='b1'))\n",
    "        self.D.add(Activation('relu',name='rel1'))\n",
    "\n",
    "        self.D.add(UpSampling1D(size=(2),name='up2'))\n",
    "        self.D.add(Conv1D(int(depth/4), 5, padding='same',name='con5'))\n",
    "        self.D.add(BatchNormalization(momentum=0.9,name='b2'))\n",
    "        self.D.add(Activation('relu',name='rel2'))\n",
    "        \n",
    "        # Out: 256 x 256 x 1 grayscale image [0.0,1.0] per pix\n",
    "        self.D.add(Conv1D(int(depth/8), 5, padding='same',name='con6'))\n",
    "        self.D.add(Activation('tanh',name='tanh'))\n",
    "        \n",
    "        self.D.add(Conv1D(1, 5, padding='same',name='con7'))\n",
    "        self.D.add(Activation('linear',name='lin1'))\n",
    "        self.D.summary()\n",
    "        return self.D\n",
    "    \n",
    "    def autoencoder_model(self):\n",
    "        if self.AE:\n",
    "            return self.AE\n",
    "        optimizer = Adam(lr=0.0002,beta_1=0.5, decay=0)\n",
    "        self.AE = Sequential(name='aemodel')\n",
    "        self.AE.add(self.encoder())\n",
    "        self.AE.add(self.decoder())\n",
    "        self.AE.compile(loss='mean_squared_error', optimizer=optimizer,\\\n",
    "            metrics=['accuracy'])\n",
    "        self.AE.summary()\n",
    "        return self.AE"
   ]
  },
  {
   "cell_type": "code",
   "execution_count": 12,
   "metadata": {},
   "outputs": [
    {
     "name": "stdout",
     "output_type": "stream",
     "text": [
      "_________________________________________________________________\n",
      "Layer (type)                 Output Shape              Param #   \n",
      "=================================================================\n",
      "con_1 (Conv1D)               (None, 9000, 64)          256       \n",
      "_________________________________________________________________\n",
      "leak_1 (LeakyReLU)           (None, 9000, 64)          0         \n",
      "_________________________________________________________________\n",
      "drop_1 (Dropout)             (None, 9000, 64)          0         \n",
      "_________________________________________________________________\n",
      "con_2 (Conv1D)               (None, 4500, 128)         41088     \n",
      "_________________________________________________________________\n",
      "leak_2 (LeakyReLU)           (None, 4500, 128)         0         \n",
      "_________________________________________________________________\n",
      "drop_2 (Dropout)             (None, 4500, 128)         0         \n",
      "_________________________________________________________________\n",
      "con_3 (Conv1D)               (None, 2250, 256)         164096    \n",
      "_________________________________________________________________\n",
      "leak_3 (LeakyReLU)           (None, 2250, 256)         0         \n",
      "_________________________________________________________________\n",
      "drop_3 (Dropout)             (None, 2250, 256)         0         \n",
      "=================================================================\n",
      "Total params: 205,440\n",
      "Trainable params: 205,440\n",
      "Non-trainable params: 0\n",
      "_________________________________________________________________\n",
      "_________________________________________________________________\n",
      "Layer (type)                 Output Shape              Param #   \n",
      "=================================================================\n",
      "up1 (UpSampling1D)           (None, 4500, 256)         0         \n",
      "_________________________________________________________________\n",
      "con4 (Conv1D)                (None, 4500, 128)         163968    \n",
      "_________________________________________________________________\n",
      "b1 (BatchNormalization)      (None, 4500, 128)         512       \n",
      "_________________________________________________________________\n",
      "rel1 (Activation)            (None, 4500, 128)         0         \n",
      "_________________________________________________________________\n",
      "up2 (UpSampling1D)           (None, 9000, 128)         0         \n",
      "_________________________________________________________________\n",
      "con5 (Conv1D)                (None, 9000, 64)          41024     \n",
      "_________________________________________________________________\n",
      "b2 (BatchNormalization)      (None, 9000, 64)          256       \n",
      "_________________________________________________________________\n",
      "rel2 (Activation)            (None, 9000, 64)          0         \n",
      "_________________________________________________________________\n",
      "con6 (Conv1D)                (None, 9000, 32)          10272     \n",
      "_________________________________________________________________\n",
      "tanh (Activation)            (None, 9000, 32)          0         \n",
      "_________________________________________________________________\n",
      "con7 (Conv1D)                (None, 9000, 1)           161       \n",
      "_________________________________________________________________\n",
      "lin1 (Activation)            (None, 9000, 1)           0         \n",
      "=================================================================\n",
      "Total params: 216,193\n",
      "Trainable params: 215,809\n",
      "Non-trainable params: 384\n",
      "_________________________________________________________________\n",
      "_________________________________________________________________\n",
      "Layer (type)                 Output Shape              Param #   \n",
      "=================================================================\n",
      "encoder (Sequential)         (None, 2250, 256)         205440    \n",
      "_________________________________________________________________\n",
      "decoder (Sequential)         (None, 9000, 1)           216193    \n",
      "=================================================================\n",
      "Total params: 421,633\n",
      "Trainable params: 421,249\n",
      "Non-trainable params: 384\n",
      "_________________________________________________________________\n"
     ]
    }
   ],
   "source": [
    "model=Autoencoder().autoencoder_model()"
   ]
  },
  {
   "cell_type": "code",
   "execution_count": 13,
   "metadata": {},
   "outputs": [
    {
     "name": "stdout",
     "output_type": "stream",
     "text": [
      "Epoch 1/10\n",
      "50/50 [==============================] - 76s 2s/step - loss: 0.0974 - acc: 0.0087\n",
      "Epoch 2/10\n",
      "50/50 [==============================] - 5s 103ms/step - loss: 0.0356 - acc: 0.0095\n",
      "Epoch 3/10\n",
      "50/50 [==============================] - 5s 106ms/step - loss: 0.0330 - acc: 0.0088\n",
      "Epoch 4/10\n",
      "50/50 [==============================] - 5s 103ms/step - loss: 0.0282 - acc: 0.0094\n",
      "Epoch 5/10\n",
      "50/50 [==============================] - 5s 103ms/step - loss: 0.0289 - acc: 0.0095\n",
      "Epoch 6/10\n",
      "50/50 [==============================] - 5s 103ms/step - loss: 0.0279 - acc: 0.0099\n",
      "Epoch 7/10\n",
      "50/50 [==============================] - 5s 103ms/step - loss: 0.0271 - acc: 0.0092\n",
      "Epoch 8/10\n",
      "50/50 [==============================] - 5s 103ms/step - loss: 0.0273 - acc: 0.0091\n",
      "Epoch 9/10\n",
      "50/50 [==============================] - 5s 103ms/step - loss: 0.0264 - acc: 0.0097\n",
      "Epoch 10/10\n",
      "50/50 [==============================] - 5s 103ms/step - loss: 0.0265 - acc: 0.0093\n"
     ]
    },
    {
     "data": {
      "text/plain": [
       "<keras.callbacks.History at 0x2b83d2de710>"
      ]
     },
     "execution_count": 13,
     "metadata": {},
     "output_type": "execute_result"
    }
   ],
   "source": [
    "model.fit_generator(generator(10), steps_per_epoch=50, epochs=10)"
   ]
  },
  {
   "cell_type": "code",
   "execution_count": 25,
   "metadata": {},
   "outputs": [
    {
     "ename": "KeyboardInterrupt",
     "evalue": "",
     "output_type": "error",
     "traceback": [
      "\u001b[1;31m---------------------------------------------------------------------------\u001b[0m",
      "\u001b[1;31mKeyboardInterrupt\u001b[0m                         Traceback (most recent call last)",
      "\u001b[1;32m<ipython-input-25-8d6defcf3329>\u001b[0m in \u001b[0;36m<module>\u001b[1;34m()\u001b[0m\n\u001b[1;32m----> 1\u001b[1;33m \u001b[0ma\u001b[0m\u001b[1;33m=\u001b[0m\u001b[1;33m[\u001b[0m\u001b[0mi\u001b[0m \u001b[1;32mfor\u001b[0m \u001b[0mi\u001b[0m \u001b[1;32min\u001b[0m \u001b[0mgenerator\u001b[0m\u001b[1;33m(\u001b[0m\u001b[1;36m1\u001b[0m\u001b[1;33m)\u001b[0m\u001b[1;33m]\u001b[0m\u001b[1;33m\u001b[0m\u001b[0m\n\u001b[0m",
      "\u001b[1;32m<ipython-input-25-8d6defcf3329>\u001b[0m in \u001b[0;36m<listcomp>\u001b[1;34m(.0)\u001b[0m\n\u001b[1;32m----> 1\u001b[1;33m \u001b[0ma\u001b[0m\u001b[1;33m=\u001b[0m\u001b[1;33m[\u001b[0m\u001b[0mi\u001b[0m \u001b[1;32mfor\u001b[0m \u001b[0mi\u001b[0m \u001b[1;32min\u001b[0m \u001b[0mgenerator\u001b[0m\u001b[1;33m(\u001b[0m\u001b[1;36m1\u001b[0m\u001b[1;33m)\u001b[0m\u001b[1;33m]\u001b[0m\u001b[1;33m\u001b[0m\u001b[0m\n\u001b[0m",
      "\u001b[1;32m<ipython-input-9-e3dcdb373371>\u001b[0m in \u001b[0;36mgenerator\u001b[1;34m(batch_size)\u001b[0m\n\u001b[0;32m     22\u001b[0m                 \u001b[0momega\u001b[0m \u001b[1;33m=\u001b[0m \u001b[0mnp\u001b[0m\u001b[1;33m.\u001b[0m\u001b[0mrandom\u001b[0m\u001b[1;33m.\u001b[0m\u001b[0muniform\u001b[0m\u001b[1;33m(\u001b[0m\u001b[1;36m0.1\u001b[0m\u001b[1;33m,\u001b[0m \u001b[1;36m0.8\u001b[0m\u001b[1;33m)\u001b[0m\u001b[1;33m\u001b[0m\u001b[0m\n\u001b[0;32m     23\u001b[0m                 \u001b[0mphi\u001b[0m \u001b[1;33m=\u001b[0m \u001b[0mnp\u001b[0m\u001b[1;33m.\u001b[0m\u001b[0mrandom\u001b[0m\u001b[1;33m.\u001b[0m\u001b[0muniform\u001b[0m\u001b[1;33m(\u001b[0m\u001b[1;36m0\u001b[0m\u001b[1;33m,\u001b[0m \u001b[1;36m2\u001b[0m \u001b[1;33m*\u001b[0m \u001b[0mnp\u001b[0m\u001b[1;33m.\u001b[0m\u001b[0mpi\u001b[0m\u001b[1;33m)\u001b[0m\u001b[1;33m\u001b[0m\u001b[0m\n\u001b[1;32m---> 24\u001b[1;33m                 \u001b[0mnoise_sigs\u001b[0m\u001b[1;33m[\u001b[0m\u001b[0mi\u001b[0m\u001b[1;33m]\u001b[0m \u001b[1;33m+=\u001b[0m \u001b[0ma\u001b[0m \u001b[1;33m*\u001b[0m \u001b[0mnp\u001b[0m\u001b[1;33m.\u001b[0m\u001b[0msin\u001b[0m\u001b[1;33m(\u001b[0m\u001b[0momega\u001b[0m \u001b[1;33m*\u001b[0m \u001b[0mt\u001b[0m \u001b[1;33m+\u001b[0m \u001b[0mphi\u001b[0m\u001b[1;33m)\u001b[0m\u001b[1;33m\u001b[0m\u001b[0m\n\u001b[0m\u001b[0;32m     25\u001b[0m             \u001b[0mnoise_sigs\u001b[0m\u001b[1;33m[\u001b[0m\u001b[0mi\u001b[0m\u001b[1;33m]\u001b[0m \u001b[1;33m+=\u001b[0m \u001b[0ms\u001b[0m\u001b[1;33m\u001b[0m\u001b[0m\n\u001b[0;32m     26\u001b[0m         \u001b[1;32myield\u001b[0m \u001b[0mnoise_sigs\u001b[0m\u001b[1;33m.\u001b[0m\u001b[0mreshape\u001b[0m\u001b[1;33m(\u001b[0m\u001b[1;33m-\u001b[0m\u001b[1;36m1\u001b[0m\u001b[1;33m,\u001b[0m\u001b[1;36m9000\u001b[0m\u001b[1;33m,\u001b[0m\u001b[1;36m1\u001b[0m\u001b[1;33m)\u001b[0m\u001b[1;33m,\u001b[0m\u001b[0msignal\u001b[0m\u001b[1;33m.\u001b[0m\u001b[0mreshape\u001b[0m\u001b[1;33m(\u001b[0m\u001b[1;33m-\u001b[0m\u001b[1;36m1\u001b[0m\u001b[1;33m,\u001b[0m\u001b[1;36m9000\u001b[0m\u001b[1;33m,\u001b[0m\u001b[1;36m1\u001b[0m\u001b[1;33m)\u001b[0m\u001b[1;33m\u001b[0m\u001b[0m\n",
      "\u001b[1;31mKeyboardInterrupt\u001b[0m: "
     ]
    }
   ],
   "source": [
    "a=[i for i in generator(1)]"
   ]
  },
  {
   "cell_type": "code",
   "execution_count": 26,
   "metadata": {},
   "outputs": [],
   "source": [
    "batch_size=1\n",
    "eds = ds.Dataset(index, batch_class=EcgBatch)\n",
    "batch = eds.next_batch(batch_size=batch_size,shuffle=True, unique_labels=['A', 'N', 'O'])\n",
    "batch_with_data = batch.load(fmt='wfdb', components=['signal', 'meta'])"
   ]
  },
  {
   "cell_type": "code",
   "execution_count": 30,
   "metadata": {},
   "outputs": [],
   "source": [
    "signal=batch_with_data[batch_with_data.indices[0]].signal"
   ]
  },
  {
   "cell_type": "code",
   "execution_count": 31,
   "metadata": {},
   "outputs": [],
   "source": [
    "noise_sigs = np.zeros_like(signal)\n",
    "for i,s in enumerate(signal):\n",
    "            n_sin = 10\n",
    "            siglen = len(s)\n",
    "            t = np.linspace(0, 30, siglen)\n",
    "            for j in range(n_sin):\n",
    "                a = np.random.uniform(0, 0.1)\n",
    "                omega = np.random.uniform(3, 4)\n",
    "                phi = np.random.uniform(0, 2 * np.pi)\n",
    "                noise_sigs[i] += a * np.sin(omega * t + phi)\n",
    "                a = np.random.uniform(0, 0.2)\n",
    "                omega = np.random.uniform(0.1, 0.8)\n",
    "                phi = np.random.uniform(0, 2 * np.pi)\n",
    "                noise_sigs[i] += a * np.sin(omega * t + phi)\n",
    "            noise_sigs[i] += s"
   ]
  },
  {
   "cell_type": "code",
   "execution_count": 33,
   "metadata": {},
   "outputs": [
    {
     "data": {
      "text/plain": [
       "array([ 0.12337987,  0.15473552,  0.19309981, ...,  1.38913886,\n",
       "        1.26776882,  1.14437647])"
      ]
     },
     "execution_count": 33,
     "metadata": {},
     "output_type": "execute_result"
    }
   ],
   "source": [
    "noise_sigs.reshape(-1,9000,1)"
   ]
  },
  {
   "cell_type": "code",
   "execution_count": 34,
   "metadata": {},
   "outputs": [],
   "source": [
    "output=model.predict(noise_sigs.reshape(-1,9000,1))"
   ]
  },
  {
   "cell_type": "code",
   "execution_count": 35,
   "metadata": {},
   "outputs": [
    {
     "data": {
      "text/plain": [
       "array([[[ 0.15525262],\n",
       "        [-0.18913487],\n",
       "        [-0.08575758],\n",
       "        ..., \n",
       "        [ 0.4463838 ],\n",
       "        [ 0.17916624],\n",
       "        [ 0.1637015 ]]], dtype=float32)"
      ]
     },
     "execution_count": 35,
     "metadata": {},
     "output_type": "execute_result"
    }
   ],
   "source": [
    "output"
   ]
  },
  {
   "cell_type": "code",
   "execution_count": 37,
   "metadata": {},
   "outputs": [
    {
     "data": {
      "text/plain": [
       "(0, 2000)"
      ]
     },
     "execution_count": 37,
     "metadata": {},
     "output_type": "execute_result"
    },
    {
     "data": {
      "image/png": "[encoded data removed]",
      "text/plain": [
       "<matplotlib.figure.Figure at 0x2b86a20dcc0>"
      ]
     },
     "metadata": {},
     "output_type": "display_data"
    }
   ],
   "source": [
    "plt.plot(noise_sigs.reshape(-1,9000,1)[0].T[0])\n",
    "plt.xlim(0,2000)"
   ]
  },
  {
   "cell_type": "code",
   "execution_count": 36,
   "metadata": {},
   "outputs": [
    {
     "data": {
      "text/plain": [
       "(0, 2000)"
      ]
     },
     "execution_count": 36,
     "metadata": {},
     "output_type": "execute_result"
    },
    {
     "data": {
      "image/png": "[encoded data removed]",
      "text/plain": [
       "<matplotlib.figure.Figure at 0x2ba13dfc320>"
      ]
     },
     "metadata": {},
     "output_type": "display_data"
    }
   ],
   "source": [
    "plt.plot(output[0].T[0])\n",
    "plt.xlim(0,2000)"
   ]
  },
  {
   "cell_type": "code",
   "execution_count": null,
   "metadata": {},
   "outputs": [],
   "source": []
  }
 ],
 "metadata": {
  "kernelspec": {
   "display_name": "Python 3",
   "language": "python",
   "name": "python3"
  },
  "language_info": {
   "codemirror_mode": {
    "name": "ipython",
    "version": 3
   },
   "file_extension": ".py",
   "mimetype": "text/x-python",
   "name": "python",
   "nbconvert_exporter": "python",
   "pygments_lexer": "ipython3",
   "version": "3.6.4"
  }
 },
 "nbformat": 4,
 "nbformat_minor": 2
}
